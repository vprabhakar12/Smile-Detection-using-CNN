{
 "cells": [
  {
   "cell_type": "markdown",
   "id": "9f81601c",
   "metadata": {},
   "source": [
    "### Imports"
   ]
  },
  {
   "cell_type": "code",
   "execution_count": 1,
   "id": "c4d24890",
   "metadata": {},
   "outputs": [],
   "source": [
    "import torch\n",
    "import torch.nn as nn\n",
    "import torch.nn.functional as F\n",
    "import torch.utils.data as data_utils\n",
    "from torch.utils.data import DataLoader\n",
    "from torchvision import transforms\n",
    "\n",
    "from sklearn.model_selection import train_test_split\n",
    "from sklearn.metrics import classification_report\n",
    "\n",
    "from imutils import paths\n",
    "import matplotlib.pyplot as plt\n",
    "import numpy as np\n",
    "import pandas as pd\n",
    "import imutils\n",
    "import math\n",
    "import cv2\n",
    "import os"
   ]
  },
  {
   "cell_type": "markdown",
   "id": "c735c552",
   "metadata": {},
   "source": [
    "### Loading and Processing the Dataset"
   ]
  },
  {
   "cell_type": "code",
   "execution_count": 2,
   "id": "7fb432cf",
   "metadata": {},
   "outputs": [],
   "source": [
    "# Declare empty lists to hold the images and their respective labels\n",
    "data = []\n",
    "labels = []"
   ]
  },
  {
   "cell_type": "code",
   "execution_count": 3,
   "id": "7a990713",
   "metadata": {},
   "outputs": [],
   "source": [
    "# Construct a transform function to convert the image 2-d array to a tensor\n",
    "convert_tensor = transforms.Compose([transforms.ToTensor()])"
   ]
  },
  {
   "cell_type": "code",
   "execution_count": 4,
   "id": "93915262",
   "metadata": {},
   "outputs": [],
   "source": [
    "# Processing every image\n",
    "for imagePath in sorted(list(paths.list_images(\"E:\\CS projects\\Smile Detection\\SMILEsmileD-master\\SMILEs\"))):\n",
    "    # Load the image, pre-process it, and store it in the data variabele created above\n",
    "    image = cv2.imread(imagePath)                    # Load the image\n",
    "    image = cv2.cvtColor(image, cv2.COLOR_BGR2GRAY)  # Convert image to grayscale\n",
    "    image = imutils.resize(image, width=28)          # Resize image to a fixed size of 28x28 pixels\n",
    "    image = convert_tensor(image)                    # Convert the image to a tensor                   \n",
    "    data.append(image)                               # Append the processed image to the list\n",
    "    \n",
    "    #Extracting labels based on the folder the image is stored\n",
    "    label = imagePath.split(os.path.sep)[-3]\n",
    "    label = 1 if label == \"positives\" else 0\n",
    "    labels.append(label)"
   ]
  },
  {
   "cell_type": "code",
   "execution_count": 5,
   "id": "91e35f67",
   "metadata": {},
   "outputs": [],
   "source": [
    "(X_train, X_test, y_train, y_test) = train_test_split(data,labels, test_size=0.20, stratify=labels, random_state=42)"
   ]
  },
  {
   "cell_type": "code",
   "execution_count": 6,
   "id": "80e9c7fa",
   "metadata": {},
   "outputs": [],
   "source": [
    "train_data = list(zip(X_train,y_train))\n",
    "test_data = list(zip(X_test,y_test))"
   ]
  },
  {
   "cell_type": "code",
   "execution_count": 7,
   "id": "09b9e27b",
   "metadata": {},
   "outputs": [],
   "source": [
    "# Declaring data loaders to train and test data in small batches \n",
    "train_loader = data_utils.DataLoader(train_data, batch_size=10, shuffle=True)\n",
    "test_loader = DataLoader(test_data, batch_size=10, shuffle=False)"
   ]
  },
  {
   "cell_type": "markdown",
   "id": "471dfb04",
   "metadata": {},
   "source": [
    "### Accounting for Class Imbalance"
   ]
  },
  {
   "cell_type": "code",
   "execution_count": 8,
   "id": "2cef8f50",
   "metadata": {},
   "outputs": [
    {
     "data": {
      "text/plain": [
       "tensor([1.3894, 3.5678])"
      ]
     },
     "execution_count": 8,
     "metadata": {},
     "output_type": "execute_result"
    }
   ],
   "source": [
    "class_counts = np.bincount(y_train)\n",
    "num_classes = len(class_counts)\n",
    "total_samples = len(y_train)\n",
    "\n",
    "class_weights = []\n",
    "for count in class_counts:\n",
    "    weight = 1 / (count / total_samples)\n",
    "    class_weights.append(weight)\n",
    "    \n",
    "class_weights = torch.FloatTensor(class_weights)\n",
    "class_weights"
   ]
  },
  {
   "cell_type": "markdown",
   "id": "2c042ac0",
   "metadata": {},
   "source": [
    "### Forward Pass for one element\n",
    "To determine no. of neurons at each layer by stepping through each layer"
   ]
  },
  {
   "cell_type": "code",
   "execution_count": 9,
   "id": "b03df7b3",
   "metadata": {},
   "outputs": [
    {
     "data": {
      "text/plain": [
       "torch.Size([1, 1, 28, 28])"
      ]
     },
     "execution_count": 9,
     "metadata": {},
     "output_type": "execute_result"
    }
   ],
   "source": [
    "x= X_train[0].view(1,1,28,28)\n",
    "x.shape"
   ]
  },
  {
   "cell_type": "code",
   "execution_count": 10,
   "id": "a705cb0d",
   "metadata": {},
   "outputs": [
    {
     "data": {
      "text/plain": [
       "torch.Size([1, 6, 26, 26])"
      ]
     },
     "execution_count": 10,
     "metadata": {},
     "output_type": "execute_result"
    }
   ],
   "source": [
    "# Pass through 1st convolution layer\n",
    "conv1 = nn.Conv2d(1, 6, 3, 1)\n",
    "x = F.relu(conv1(x)) # Rectified Linear Unit for our activation function\n",
    "x.shape"
   ]
  },
  {
   "cell_type": "code",
   "execution_count": 11,
   "id": "2f0a4d26",
   "metadata": {},
   "outputs": [
    {
     "data": {
      "text/plain": [
       "torch.Size([1, 6, 13, 13])"
      ]
     },
     "execution_count": 11,
     "metadata": {},
     "output_type": "execute_result"
    }
   ],
   "source": [
    "# Pass through the 1st pooling layer\n",
    "x = F.max_pool2d(x,2,2) # kernel of 2x2 and stride of 2\n",
    "x.shape"
   ]
  },
  {
   "cell_type": "code",
   "execution_count": 12,
   "id": "42841511",
   "metadata": {},
   "outputs": [
    {
     "data": {
      "text/plain": [
       "torch.Size([1, 16, 11, 11])"
      ]
     },
     "execution_count": 12,
     "metadata": {},
     "output_type": "execute_result"
    }
   ],
   "source": [
    "# Pass through 2nd convolution layer\n",
    "conv2 = nn.Conv2d(6, 16, 3, 1)\n",
    "x = F.relu(conv2(x)) # Rectified Linear Unit for our activation function\n",
    "x.shape"
   ]
  },
  {
   "cell_type": "code",
   "execution_count": 13,
   "id": "c3049b17",
   "metadata": {},
   "outputs": [
    {
     "data": {
      "text/plain": [
       "torch.Size([1, 16, 5, 5])"
      ]
     },
     "execution_count": 13,
     "metadata": {},
     "output_type": "execute_result"
    }
   ],
   "source": [
    "# Pass through the 2nd pooling layer\n",
    "x = F.max_pool2d(x,2,2) # kernel of 2x2 and stride of 2\n",
    "x.shape"
   ]
  },
  {
   "cell_type": "markdown",
   "id": "357b461e",
   "metadata": {},
   "source": [
    "### CNN Model Definition Definition"
   ]
  },
  {
   "cell_type": "code",
   "execution_count": 14,
   "id": "5cd410d1",
   "metadata": {},
   "outputs": [],
   "source": [
    "# CNN Model Class\n",
    "class ConvolutionalNetwork(nn.Module):\n",
    "    \n",
    "    #Defining the layers of the CNN\n",
    "    def __init__(self):\n",
    "        super().__init__()\n",
    "        \n",
    "        #Convolution Layers\n",
    "        self.conv1 = nn.Conv2d(1,6,3,1)\n",
    "        self.conv2 = nn.Conv2d(6,16,3,1)\n",
    "        \n",
    "        # Fully Connected Layers\n",
    "        self.fc1 = nn.Linear(5*5*16, 120)\n",
    "        self.fc2 = nn.Linear(120, 84)\n",
    "        self.fc3 = nn.Linear(84, 2)\n",
    "\n",
    "    # Forward pass\n",
    "    def forward(self, X):\n",
    "        \n",
    "        # 1st Pass of convolution\n",
    "        X = F.relu(self.conv1(X))\n",
    "        X = F.max_pool2d(X,2,2) # 2x2 kernel and stride 2\n",
    "\n",
    "        # 2nd Pass of convolution\n",
    "        X = F.relu(self.conv2(X))\n",
    "        X = F.max_pool2d(X,2,2) # 2x2 kernel and stride 2\n",
    "\n",
    "        # Re-View to flatten it out the 2-d array to a linear input\n",
    "        X = X.view(-1, 16*5*5) \n",
    "\n",
    "        # Fully Connected Layers\n",
    "        X = F.relu(self.fc1(X))\n",
    "        X = F.relu(self.fc2(X))\n",
    "        X = self.fc3(X)\n",
    "        \n",
    "        return F.log_softmax(X, dim=1)"
   ]
  },
  {
   "cell_type": "code",
   "execution_count": 15,
   "id": "8cbbe138",
   "metadata": {},
   "outputs": [
    {
     "data": {
      "text/plain": [
       "ConvolutionalNetwork(\n",
       "  (conv1): Conv2d(1, 6, kernel_size=(3, 3), stride=(1, 1))\n",
       "  (conv2): Conv2d(6, 16, kernel_size=(3, 3), stride=(1, 1))\n",
       "  (fc1): Linear(in_features=400, out_features=120, bias=True)\n",
       "  (fc2): Linear(in_features=120, out_features=84, bias=True)\n",
       "  (fc3): Linear(in_features=84, out_features=2, bias=True)\n",
       ")"
      ]
     },
     "execution_count": 15,
     "metadata": {},
     "output_type": "execute_result"
    }
   ],
   "source": [
    "# Create an Instance of the Model\n",
    "model = ConvolutionalNetwork()\n",
    "model"
   ]
  },
  {
   "cell_type": "code",
   "execution_count": 16,
   "id": "6d302c03",
   "metadata": {},
   "outputs": [],
   "source": [
    "# Loss Function Optimizer with calculated weights\n",
    "criterion = nn.CrossEntropyLoss(weight=class_weights)\n",
    "optimizer = torch.optim.Adam(model.parameters(), lr=0.001)"
   ]
  },
  {
   "cell_type": "markdown",
   "id": "c68c41f7",
   "metadata": {},
   "source": [
    "### Training the Model"
   ]
  },
  {
   "cell_type": "code",
   "execution_count": 17,
   "id": "216725c5",
   "metadata": {},
   "outputs": [
    {
     "name": "stdout",
     "output_type": "stream",
     "text": [
      "Epoch: 0  Batch: 200  Loss: 0.6589\n",
      "Epoch: 0  Batch: 400  Loss: 0.4053\n",
      "Epoch: 0  Batch: 600  Loss: 0.1901\n",
      "Epoch: 0  Batch: 800  Loss: 0.3474\n",
      "Epoch: 0  Batch: 1000  Loss: 0.2369\n",
      "Epoch: 1  Batch: 200  Loss: 0.582\n",
      "Epoch: 1  Batch: 400  Loss: 0.5335\n",
      "Epoch: 1  Batch: 600  Loss: 0.7973\n",
      "Epoch: 1  Batch: 800  Loss: 0.4235\n",
      "Epoch: 1  Batch: 1000  Loss: 0.5558\n",
      "Epoch: 2  Batch: 200  Loss: 0.1621\n",
      "Epoch: 2  Batch: 400  Loss: 1.529\n",
      "Epoch: 2  Batch: 600  Loss: 0.3904\n",
      "Epoch: 2  Batch: 800  Loss: 0.2055\n",
      "Epoch: 2  Batch: 1000  Loss: 0.0623\n",
      "Epoch: 3  Batch: 200  Loss: 0.2383\n",
      "Epoch: 3  Batch: 400  Loss: 0.3219\n",
      "Epoch: 3  Batch: 600  Loss: 0.1353\n",
      "Epoch: 3  Batch: 800  Loss: 0.3725\n",
      "Epoch: 3  Batch: 1000  Loss: 0.2121\n",
      "Epoch: 4  Batch: 200  Loss: 0.4631\n",
      "Epoch: 4  Batch: 400  Loss: 0.1383\n",
      "Epoch: 4  Batch: 600  Loss: 0.0923\n",
      "Epoch: 4  Batch: 800  Loss: 0.302\n",
      "Epoch: 4  Batch: 1000  Loss: 0.2002\n",
      "Epoch: 5  Batch: 200  Loss: 0.3518\n",
      "Epoch: 5  Batch: 400  Loss: 0.0436\n",
      "Epoch: 5  Batch: 600  Loss: 0.0944\n",
      "Epoch: 5  Batch: 800  Loss: 0.0679\n",
      "Epoch: 5  Batch: 1000  Loss: 0.7035\n",
      "Epoch: 6  Batch: 200  Loss: 0.4926\n",
      "Epoch: 6  Batch: 400  Loss: 0.1908\n",
      "Epoch: 6  Batch: 600  Loss: 0.3521\n",
      "Epoch: 6  Batch: 800  Loss: 0.0977\n",
      "Epoch: 6  Batch: 1000  Loss: 0.1466\n",
      "Epoch: 7  Batch: 200  Loss: 0.2544\n",
      "Epoch: 7  Batch: 400  Loss: 0.3541\n",
      "Epoch: 7  Batch: 600  Loss: 0.1809\n",
      "Epoch: 7  Batch: 800  Loss: 0.1128\n",
      "Epoch: 7  Batch: 1000  Loss: 0.1883\n",
      "Epoch: 8  Batch: 200  Loss: 0.2117\n",
      "Epoch: 8  Batch: 400  Loss: 0.0283\n",
      "Epoch: 8  Batch: 600  Loss: 0.0583\n",
      "Epoch: 8  Batch: 800  Loss: 0.3456\n",
      "Epoch: 8  Batch: 1000  Loss: 0.1938\n",
      "Epoch: 9  Batch: 200  Loss: 0.0619\n",
      "Epoch: 9  Batch: 400  Loss: 0.0569\n",
      "Epoch: 9  Batch: 600  Loss: 0.1237\n",
      "Epoch: 9  Batch: 800  Loss: 0.3766\n",
      "Epoch: 9  Batch: 1000  Loss: 0.0908\n",
      "Epoch: 10  Batch: 200  Loss: 0.1417\n",
      "Epoch: 10  Batch: 400  Loss: 0.1905\n",
      "Epoch: 10  Batch: 600  Loss: 0.5036\n",
      "Epoch: 10  Batch: 800  Loss: 0.0307\n",
      "Epoch: 10  Batch: 1000  Loss: 0.0131\n",
      "Epoch: 11  Batch: 200  Loss: 0.0571\n",
      "Epoch: 11  Batch: 400  Loss: 0.5293\n",
      "Epoch: 11  Batch: 600  Loss: 0.0969\n",
      "Epoch: 11  Batch: 800  Loss: 0.0478\n",
      "Epoch: 11  Batch: 1000  Loss: 0.1632\n",
      "Epoch: 12  Batch: 200  Loss: 0.1282\n",
      "Epoch: 12  Batch: 400  Loss: 0.1956\n",
      "Epoch: 12  Batch: 600  Loss: 0.1808\n",
      "Epoch: 12  Batch: 800  Loss: 0.0283\n",
      "Epoch: 12  Batch: 1000  Loss: 0.0964\n",
      "Epoch: 13  Batch: 200  Loss: 0.1676\n",
      "Epoch: 13  Batch: 400  Loss: 0.1058\n",
      "Epoch: 13  Batch: 600  Loss: 0.033\n",
      "Epoch: 13  Batch: 800  Loss: 0.0566\n",
      "Epoch: 13  Batch: 1000  Loss: 0.1653\n",
      "Epoch: 14  Batch: 200  Loss: 0.0098\n",
      "Epoch: 14  Batch: 400  Loss: 0.3922\n",
      "Epoch: 14  Batch: 600  Loss: 0.2488\n",
      "Epoch: 14  Batch: 800  Loss: 0.0254\n",
      "Epoch: 14  Batch: 1000  Loss: 0.0853\n",
      "Training Time: 1.84 minutes!\n"
     ]
    }
   ],
   "source": [
    "import time\n",
    "start_time = time.time()\n",
    "\n",
    "# Create Variables To Tracks Things\n",
    "epochs = 15\n",
    "train_losses = []\n",
    "test_losses = []\n",
    "train_correct = []\n",
    "test_correct = []\n",
    "num_total_train = []\n",
    "num_total_test = []\n",
    "\n",
    "# For Loop of each Epoch\n",
    "for i in range(epochs):\n",
    "    trn_corr = 0\n",
    "    tst_corr = 0\n",
    "    num_train = 0\n",
    "    num_test = 0\n",
    "\n",
    "\n",
    "    # Train\n",
    "    for b,(X_train, y_train) in enumerate(train_loader):\n",
    "        b+=1 # start our batches at 1\n",
    "        y_pred = model(X_train) # get predicted values from the training set. Not flattened 2D\n",
    "        loss = criterion(y_pred, y_train) # how off are we? Compare the predictions to correct answers in y_train\n",
    "\n",
    "        predicted = torch.max(y_pred.data, 1)[1] # add up the number of correct predictions. Indexed off the first point\n",
    "        batch_corr = (predicted == y_train).sum() # how many we got correct from this batch. True = 1, False=0, sum those up\n",
    "        trn_corr += batch_corr # keep track as we go along in training.\n",
    "        num_train += len(y_train)\n",
    "\n",
    "        # Update our parameters\n",
    "        optimizer.zero_grad()\n",
    "        loss.backward()\n",
    "        optimizer.step()\n",
    "\n",
    "\n",
    "        # Print out some results\n",
    "        if b%200 == 0:\n",
    "            print(f'Epoch: {i}  Batch: {b}  Loss: {round(loss.item(),4)}')\n",
    "\n",
    "    train_losses.append(loss)\n",
    "    train_correct.append(trn_corr)\n",
    "    num_total_train.append(num_train)\n",
    "\n",
    "\n",
    "    # Testing with no gradient so it doesn't update the weights and biases with test data\n",
    "    with torch.no_grad(): \n",
    "        for b,(X_test, y_test) in enumerate(test_loader):\n",
    "            y_val = model(X_test)\n",
    "            predicted = torch.max(y_val.data, 1)[1] # Getting index of the max neuron as the predicted class\n",
    "            tst_corr += (predicted == y_test).sum() # Counting the correct predictions\n",
    "            num_test += len(y_test)                 # Counting the total test data\n",
    "\n",
    "    loss = criterion(y_val, y_test)\n",
    "    test_losses.append(loss)\n",
    "    test_correct.append(tst_corr)\n",
    "    num_total_test.append(num_test)\n",
    "    \n",
    "\n",
    "current_time = time.time()\n",
    "total = current_time - start_time\n",
    "print(f'Training Time: {round(total/60,2)} minutes!')"
   ]
  },
  {
   "cell_type": "markdown",
   "id": "8ae52e05",
   "metadata": {},
   "source": [
    "### Visualizing Train-Test Loss & Accuracy"
   ]
  },
  {
   "cell_type": "code",
   "execution_count": 18,
   "id": "32b00d83",
   "metadata": {},
   "outputs": [
    {
     "data": {
      "text/plain": [
       "<matplotlib.legend.Legend at 0x1d92092b610>"
      ]
     },
     "execution_count": 18,
     "metadata": {},
     "output_type": "execute_result"
    },
    {
     "data": {
      "image/png": "[encoded data removed]",
      "text/plain": [
       "<Figure size 640x480 with 1 Axes>"
      ]
     },
     "metadata": {},
     "output_type": "display_data"
    }
   ],
   "source": [
    "# Graph the loss at epoch\n",
    "plt.plot([train_losses[i].item() for i in range(len(train_losses))], label=\"Training Loss\")\n",
    "plt.plot([test_losses[i].item() for i in range(len(test_losses))], label=\"Validation Loss\")\n",
    "plt.title(\"Loss at Epoch\")\n",
    "plt.legend()"
   ]
  },
  {
   "cell_type": "code",
   "execution_count": 19,
   "id": "478ca690",
   "metadata": {},
   "outputs": [
    {
     "data": {
      "text/plain": [
       "<matplotlib.legend.Legend at 0x1d92065a810>"
      ]
     },
     "execution_count": 19,
     "metadata": {},
     "output_type": "execute_result"
    },
    {
     "data": {
      "image/png": "[encoded data removed]",
      "text/plain": [
       "<Figure size 640x480 with 1 Axes>"
      ]
     },
     "metadata": {},
     "output_type": "display_data"
    }
   ],
   "source": [
    "# graph the accuracy at the end of each epoch\n",
    "plt.plot([(t/n)*100 for t,n in zip(train_correct, num_total_train)], label=\"Training Accuracy\")\n",
    "plt.plot([(t/n)*100 for t,n in zip(test_correct, num_total_test)], label=\"Validation Accuracy\")\n",
    "plt.title(\"Accuracy at the end of each Epoch\")\n",
    "plt.ylim(60,100)\n",
    "plt.legend()"
   ]
  },
  {
   "cell_type": "markdown",
   "id": "d74ab26e",
   "metadata": {},
   "source": [
    "### Prediction for the entire Test Set"
   ]
  },
  {
   "cell_type": "code",
   "execution_count": 20,
   "id": "8d7f66d9",
   "metadata": {},
   "outputs": [],
   "source": [
    "test_load_all = DataLoader(test_data, batch_size=10000, shuffle=False)"
   ]
  },
  {
   "cell_type": "code",
   "execution_count": 21,
   "id": "efd6b036",
   "metadata": {},
   "outputs": [],
   "source": [
    "with torch.no_grad():\n",
    "    correct = 0\n",
    "    for X_test, y_test in test_load_all:\n",
    "        y_val = model(X_test)\n",
    "        predicted = torch.max(y_val, 1)[1]\n",
    "        correct += (predicted == y_test).sum()"
   ]
  },
  {
   "cell_type": "code",
   "execution_count": 22,
   "id": "d05fb020",
   "metadata": {},
   "outputs": [
    {
     "name": "stdout",
     "output_type": "stream",
     "text": [
      "              precision    recall  f1-score   support\n",
      "\n",
      "           0       0.95      0.89      0.92      1895\n",
      "           1       0.75      0.88      0.81       738\n",
      "\n",
      "    accuracy                           0.89      2633\n",
      "   macro avg       0.85      0.88      0.86      2633\n",
      "weighted avg       0.89      0.89      0.89      2633\n",
      "\n"
     ]
    }
   ],
   "source": [
    "print(classification_report(y_test.numpy(),(torch.max(y_val,1)).indices.numpy()))"
   ]
  },
  {
   "cell_type": "markdown",
   "id": "0de43898",
   "metadata": {},
   "source": [
    "### Saving and Loading the trained model\n",
    "Change the save path as required and update the load path to the downloaded .pt file"
   ]
  },
  {
   "cell_type": "code",
   "execution_count": 23,
   "id": "af83e9aa",
   "metadata": {},
   "outputs": [],
   "source": [
    "torch.save(model.state_dict(), \"E:\\CS projects\\Smile Detection\\model_2.pt\")"
   ]
  },
  {
   "cell_type": "code",
   "execution_count": 24,
   "id": "bbb7392b",
   "metadata": {},
   "outputs": [
    {
     "data": {
      "text/plain": [
       "ConvolutionalNetwork(\n",
       "  (conv1): Conv2d(1, 6, kernel_size=(3, 3), stride=(1, 1))\n",
       "  (conv2): Conv2d(6, 16, kernel_size=(3, 3), stride=(1, 1))\n",
       "  (fc1): Linear(in_features=400, out_features=120, bias=True)\n",
       "  (fc2): Linear(in_features=120, out_features=84, bias=True)\n",
       "  (fc3): Linear(in_features=84, out_features=2, bias=True)\n",
       ")"
      ]
     },
     "execution_count": 24,
     "metadata": {},
     "output_type": "execute_result"
    }
   ],
   "source": [
    "model_test = ConvolutionalNetwork()\n",
    "model_test.load_state_dict(torch.load(\"E:\\CS projects\\Smile Detection\\model_1.pt\"))\n",
    "model_test.eval()"
   ]
  },
  {
   "cell_type": "markdown",
   "id": "43652bc4",
   "metadata": {},
   "source": [
    "### FINAL PREDICTION\n",
    "Load the final test images in a single folder and update the path below"
   ]
  },
  {
   "cell_type": "code",
   "execution_count": 25,
   "id": "eeba47bf",
   "metadata": {},
   "outputs": [],
   "source": [
    "# Pre-processing\n",
    "final_test_data = []\n",
    "for imagePath in sorted(list(paths.list_images(\"E:\\CS projects\\Smile Detection\\Test_Final\"))):\n",
    "    image = cv2.imread(imagePath)                    # Load the image\n",
    "    image = cv2.cvtColor(image, cv2.COLOR_BGR2GRAY)  # Convert image to grayscale\n",
    "    image = imutils.resize(image, width=28)          # Resize image to a fixed size of 28x28 pixels\n",
    "    image = convert_tensor(image)                    # Convert the image to a tensor\n",
    "    final_test_data.append(image)                    # Append the processed image to the list"
   ]
  },
  {
   "cell_type": "code",
   "execution_count": 26,
   "id": "b6c4236d",
   "metadata": {},
   "outputs": [],
   "source": [
    "# Loading the entire test set\n",
    "final_test_load_all = DataLoader(final_test_data, batch_size=10000, shuffle=False)"
   ]
  },
  {
   "cell_type": "code",
   "execution_count": 27,
   "id": "eea3f9be",
   "metadata": {},
   "outputs": [],
   "source": [
    "# Forward Pass / Predictions\n",
    "with torch.no_grad():\n",
    "    for X_test in final_test_load_all:\n",
    "        final_y_val = model_test(X_test)\n",
    "        final_predicted = torch.max(final_y_val, 1)[1]\n",
    "final_labels = []\n",
    "for prediction in final_predicted:\n",
    "    label = \"Smiling\" if prediction==1 else \"not smiling :(\"\n",
    "    final_labels.append(label)"
   ]
  },
  {
   "cell_type": "code",
   "execution_count": 28,
   "id": "5796a97e",
   "metadata": {},
   "outputs": [
    {
     "data": {
      "image/png": "[encoded data removed]",
      "text/plain": [
       "<Figure size 600x300 with 8 Axes>"
      ]
     },
     "metadata": {},
     "output_type": "display_data"
    }
   ],
   "source": [
    "#Visualizing the predicitons\n",
    "X_grid = 4\n",
    "Y_grid = math.ceil(len(final_test_data)/X_grid)\n",
    "\n",
    "fig,axes=plt.subplots(Y_grid, X_grid,figsize = (6,3))\n",
    "axes = axes.ravel()\n",
    "plt.subplots_adjust(wspace=.35, hspace=.35)\n",
    "fig.suptitle(' SMILE :) DETECTION ', fontsize=15, y = 1.05)\n",
    "\n",
    "#Plot each prediction\n",
    "for i in np.arange(0, X_grid * Y_grid ):\n",
    "    axes[i].imshow(final_test_data[i].reshape(-1,28), cmap='magma')\n",
    "    axes[i].set_title(final_labels[i],fontsize = 10)\n",
    "    axes[i].axis('off')"
   ]
  },
  {
   "cell_type": "code",
   "execution_count": null,
   "id": "60114e45",
   "metadata": {},
   "outputs": [],
   "source": []
  }
 ],
 "metadata": {
  "kernelspec": {
   "display_name": "Python 3 (ipykernel)",
   "language": "python",
   "name": "python3"
  },
  "language_info": {
   "codemirror_mode": {
    "name": "ipython",
    "version": 3
   },
   "file_extension": ".py",
   "mimetype": "text/x-python",
   "name": "python",
   "nbconvert_exporter": "python",
   "pygments_lexer": "ipython3",
   "version": "3.11.5"
  }
 },
 "nbformat": 4,
 "nbformat_minor": 5
}
